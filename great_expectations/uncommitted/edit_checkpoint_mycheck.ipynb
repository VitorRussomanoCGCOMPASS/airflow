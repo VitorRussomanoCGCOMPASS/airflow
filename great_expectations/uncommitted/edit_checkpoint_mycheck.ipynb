{
 "cells": [
  {
   "cell_type": "markdown",
   "id": "a0418388",
   "metadata": {},
   "source": [
    "# Create Your Checkpoint\n",
    "Use this notebook to configure a new Checkpoint and add it to your project:\n",
    "\n",
    "**Checkpoint Name**: `mycheck`"
   ]
  },
  {
   "cell_type": "code",
   "execution_count": 2,
   "id": "8002d886",
   "metadata": {},
   "outputs": [],
   "source": [
    "from ruamel.yaml import YAML\n",
    "import great_expectations as gx\n",
    "from pprint import pprint\n",
    "\n",
    "yaml = YAML()\n",
    "context = gx.get_context()"
   ]
  },
  {
   "cell_type": "markdown",
   "id": "bf918caf",
   "metadata": {},
   "source": [
    "# Create a Checkpoint Configuration\n",
    "\n",
    "**If you are new to Great Expectations or the Checkpoint feature**, you should start with SimpleCheckpoint because it includes default configurations like a default list of post validation actions.\n",
    "\n",
    "In the cell below we have created a sample Checkpoint configuration using **your configuration** and **SimpleCheckpoint** to run a single validation of a single Expectation Suite against a single Batch of data.\n",
    "\n",
    "To keep it simple, we are just choosing the first available instance of each of the following items you have configured in your Data Context:\n",
    "* Datasource\n",
    "* DataConnector\n",
    "* DataAsset\n",
    "* Partition\n",
    "* Expectation Suite\n",
    "\n",
    "Of course this is purely an example, you may edit this to your heart's content.\n",
    "\n",
    "**My configuration is not so simple - are there more advanced options?**\n",
    "\n",
    "Glad you asked! Checkpoints are very versatile. For example, you can validate many Batches in a single Checkpoint, validate Batches against different Expectation Suites or against many Expectation Suites, control the specific post-validation actions based on Expectation Suite / Batch / results of validation among other features. Check out our documentation on Checkpoints for more details and for instructions on how to implement other more advanced features including using the **Checkpoint** class:\n",
    "- https://docs.greatexpectations.io/docs/reference/checkpoints_and_actions\n",
    "- https://docs.greatexpectations.io/docs/guides/validation/checkpoints/how_to_create_a_new_checkpoint\n",
    "- https://docs.greatexpectations.io/docs/guides/validation/checkpoints/how_to_configure_a_new_checkpoint_using_test_yaml_config"
   ]
  },
  {
   "cell_type": "markdown",
   "id": "fc79299a",
   "metadata": {},
   "source": [
    "Sorry, we were unable to create a sample configuration. Perhaps you don't have a Datasource or Expectation Suite configured."
   ]
  },
  {
   "cell_type": "markdown",
   "id": "9b182a20",
   "metadata": {},
   "source": [
    "# Customize Your Configuration\n",
    "The following cells show examples for listing your current configuration. You can replace values in the sample configuration with these values to customize your Checkpoint."
   ]
  },
  {
   "cell_type": "code",
   "execution_count": 3,
   "id": "2ded4814",
   "metadata": {},
   "outputs": [
    {
     "name": "stdout",
     "output_type": "stream",
     "text": [
      "{'mssql-default': {'default_configured_data_connector_name': ['YOUR_TABLE_NAME'],\n",
      "                   'default_inferred_data_connector_name': ['dbo.cotista_op',\n",
      "                                                            'dbo.devops',\n",
      "                                                            'dbo.distribuidor_entry',\n",
      "                                                            'dbo.distribuidor_quotaholder',\n",
      "                                                            'dbo.distribuidor_rates',\n",
      "                                                            'dbo.Employee',\n",
      "                                                            'dbo.Employee_temp',\n",
      "                                                            'dbo.employeee',\n",
      "                                                            'dbo.funds',\n",
      "                                                            'dbo.funds_values'],\n",
      "                   'default_runtime_data_connector_name': []},\n",
      " 'mssql_default': {'default_configured_data_connector_name': ['dbo.Employee'],\n",
      "                   'default_inferred_data_connector_name': [],\n",
      "                   'default_runtime_data_connector_name': []},\n",
      " 'my_datasource': {'default_configured_data_connector_name': ['YOUR_TABLE_NAME'],\n",
      "                   'default_inferred_data_connector_name': ['dbo.cotista_op',\n",
      "                                                            'dbo.devops',\n",
      "                                                            'dbo.distribuidor_entry',\n",
      "                                                            'dbo.distribuidor_quotaholder',\n",
      "                                                            'dbo.distribuidor_rates',\n",
      "                                                            'dbo.Employee',\n",
      "                                                            'dbo.Employee_temp',\n",
      "                                                            'dbo.employeee',\n",
      "                                                            'dbo.funds',\n",
      "                                                            'dbo.funds_values'],\n",
      "                   'default_runtime_data_connector_name': []}}\n"
     ]
    }
   ],
   "source": [
    "# Run this cell to print out the names of your Datasources, Data Connectors and Data Assets\n",
    "pprint(context.get_available_data_asset_names())"
   ]
  },
  {
   "cell_type": "code",
   "execution_count": 5,
   "id": "7e99f340",
   "metadata": {},
   "outputs": [
    {
     "data": {
      "text/plain": [
       "[]"
      ]
     },
     "execution_count": 5,
     "metadata": {},
     "output_type": "execute_result"
    }
   ],
   "source": [
    "context.list_expectation_suite_names()"
   ]
  },
  {
   "cell_type": "markdown",
   "id": "60df1ea3",
   "metadata": {},
   "source": [
    "# Test Your Checkpoint Configuration\n",
    "Here we will test your Checkpoint configuration to make sure it is valid.\n",
    "\n",
    "This `test_yaml_config()` function is meant to enable fast dev loops. If your configuration is correct, this cell will show a message that you successfully instantiated a Checkpoint. You can continually edit your Checkpoint config yaml and re-run the cell to check until the new config is valid.\n",
    "\n",
    "If you instead wish to use python instead of yaml to configure your Checkpoint, you can use `context.add_checkpoint()` and specify all the required parameters."
   ]
  },
  {
   "cell_type": "code",
   "execution_count": 10,
   "id": "b7599904",
   "metadata": {},
   "outputs": [
    {
     "name": "stdout",
     "output_type": "stream",
     "text": [
      "Attempting to instantiate class from config...\n",
      "\tInstantiating as a SimpleCheckpoint, since class_name is SimpleCheckpoint\n",
      "\tSuccessfully instantiated SimpleCheckpoint\n",
      "\n",
      "\n",
      "Checkpoint class name: SimpleCheckpoint\n"
     ]
    }
   ],
   "source": [
    "\n",
    "yaml_config = \"\"\"\n",
    "name: my_checkpoint  # This is populated by the CLI.\n",
    "config_version: 1\n",
    "class_name: SimpleCheckpoint\n",
    "validations:\n",
    "  - batch_request:\n",
    "      datasource_name: mssql-default  # Update this value.\n",
    "      data_connector_name: mssql-default  # Update this value.\n",
    "      data_asset_name: dbo.funds_values  # Update this value.\n",
    "      data_connector_query:\n",
    "        index: -1\n",
    "    expectation_suite_name: new_chck  # Update this value.\n",
    "\"\"\"\n",
    "my_checkpoint = context.test_yaml_config(yaml_config=yaml_config)"
   ]
  },
  {
   "cell_type": "markdown",
   "id": "fe51fbb7",
   "metadata": {},
   "source": [
    "# Review Your Checkpoint\n",
    "\n",
    "You can run the following cell to print out the full yaml configuration. For example, if you used **SimpleCheckpoint**  this will show you the default action list."
   ]
  },
  {
   "cell_type": "code",
   "execution_count": 11,
   "id": "0013443e",
   "metadata": {},
   "outputs": [
    {
     "name": "stdout",
     "output_type": "stream",
     "text": [
      "name: my_checkpoint\n",
      "config_version: 1.0\n",
      "template_name:\n",
      "module_name: great_expectations.checkpoint\n",
      "class_name: Checkpoint\n",
      "run_name_template:\n",
      "expectation_suite_name:\n",
      "batch_request: {}\n",
      "action_list:\n",
      "  - name: store_validation_result\n",
      "    action:\n",
      "      class_name: StoreValidationResultAction\n",
      "  - name: store_evaluation_params\n",
      "    action:\n",
      "      class_name: StoreEvaluationParametersAction\n",
      "  - name: update_data_docs\n",
      "    action:\n",
      "      class_name: UpdateDataDocsAction\n",
      "      site_names: []\n",
      "evaluation_parameters: {}\n",
      "runtime_configuration: {}\n",
      "validations:\n",
      "  - batch_request:\n",
      "      datasource_name: mssql-default\n",
      "      data_connector_name: mssql-default\n",
      "      data_asset_name: dbo.funds_values\n",
      "      data_connector_query:\n",
      "        index: -1\n",
      "    expectation_suite_name: new_chck\n",
      "profilers: []\n",
      "ge_cloud_id:\n",
      "expectation_suite_ge_cloud_id:\n",
      "\n"
     ]
    }
   ],
   "source": [
    "print(my_checkpoint.get_config(mode=\"yaml\"))"
   ]
  },
  {
   "cell_type": "markdown",
   "id": "5eb2b215",
   "metadata": {},
   "source": [
    "# Add Your Checkpoint\n",
    "\n",
    "Run the following cell to save this Checkpoint to your Checkpoint Store."
   ]
  },
  {
   "cell_type": "code",
   "execution_count": 12,
   "id": "2b22604c",
   "metadata": {},
   "outputs": [
    {
     "data": {
      "text/plain": [
       "{\n",
       "  \"action_list\": [\n",
       "    {\n",
       "      \"name\": \"store_validation_result\",\n",
       "      \"action\": {\n",
       "        \"class_name\": \"StoreValidationResultAction\"\n",
       "      }\n",
       "    },\n",
       "    {\n",
       "      \"name\": \"store_evaluation_params\",\n",
       "      \"action\": {\n",
       "        \"class_name\": \"StoreEvaluationParametersAction\"\n",
       "      }\n",
       "    },\n",
       "    {\n",
       "      \"name\": \"update_data_docs\",\n",
       "      \"action\": {\n",
       "        \"class_name\": \"UpdateDataDocsAction\",\n",
       "        \"site_names\": []\n",
       "      }\n",
       "    }\n",
       "  ],\n",
       "  \"batch_request\": {},\n",
       "  \"class_name\": \"Checkpoint\",\n",
       "  \"config_version\": 1.0,\n",
       "  \"evaluation_parameters\": {},\n",
       "  \"module_name\": \"great_expectations.checkpoint\",\n",
       "  \"name\": \"my_checkpoint\",\n",
       "  \"profilers\": [],\n",
       "  \"runtime_configuration\": {},\n",
       "  \"validations\": [\n",
       "    {\n",
       "      \"batch_request\": {\n",
       "        \"datasource_name\": \"mssql-default\",\n",
       "        \"data_connector_name\": \"mssql-default\",\n",
       "        \"data_asset_name\": \"dbo.funds_values\",\n",
       "        \"data_connector_query\": {\n",
       "          \"index\": -1\n",
       "        }\n",
       "      },\n",
       "      \"expectation_suite_name\": \"new_chck\"\n",
       "    }\n",
       "  ]\n",
       "}"
      ]
     },
     "execution_count": 12,
     "metadata": {},
     "output_type": "execute_result"
    }
   ],
   "source": [
    "context.add_checkpoint(**yaml.load(yaml_config))"
   ]
  },
  {
   "cell_type": "markdown",
   "id": "503092d1",
   "metadata": {},
   "source": [
    "# Run Your Checkpoint & Open Data Docs(Optional)\n",
    "\n",
    "You may wish to run the Checkpoint now and review its output in Data Docs. If so uncomment and run the following cell."
   ]
  },
  {
   "cell_type": "code",
   "execution_count": 25,
   "id": "1ae25e53",
   "metadata": {},
   "outputs": [
    {
     "ename": "CheckpointNotFoundError",
     "evalue": "Non-existent Checkpoint configuration named \"my_checkpoint.yml\".\n\nDetails: Unable to retrieve object from TupleFilesystemStoreBackend with the following Key: C:\\Users\\Vitor Russomano\\airflow\\great_expectations\\checkpoints/my_checkpoint\\yml.yml",
     "output_type": "error",
     "traceback": [
      "\u001b[1;31m------------------------------------------------------\u001b[0m",
      "\u001b[1;31mFileNotFoundError\u001b[0m    Traceback (most recent call last)",
      "File \u001b[1;32m~\\airflow\\venv\\lib\\site-packages\\great_expectations\\data_context\\store\\tuple_store_backend.py:309\u001b[0m, in \u001b[0;36mTupleFilesystemStoreBackend._get\u001b[1;34m(self, key)\u001b[0m\n\u001b[0;32m    308\u001b[0m \u001b[38;5;28;01mtry\u001b[39;00m:\n\u001b[1;32m--> 309\u001b[0m     \u001b[38;5;28;01mwith\u001b[39;00m \u001b[38;5;28;43mopen\u001b[39;49m\u001b[43m(\u001b[49m\u001b[43mfilepath\u001b[49m\u001b[43m)\u001b[49m \u001b[38;5;28;01mas\u001b[39;00m infile:\n\u001b[0;32m    310\u001b[0m         contents: \u001b[38;5;28mstr\u001b[39m \u001b[38;5;241m=\u001b[39m infile\u001b[38;5;241m.\u001b[39mread()\u001b[38;5;241m.\u001b[39mrstrip(\u001b[38;5;124m\"\u001b[39m\u001b[38;5;130;01m\\n\u001b[39;00m\u001b[38;5;124m\"\u001b[39m)\n",
      "\u001b[1;31mFileNotFoundError\u001b[0m: [Errno 2] No such file or directory: 'C:\\\\Users\\\\Vitor Russomano\\\\airflow\\\\great_expectations\\\\checkpoints/my_checkpoint\\\\yml.yml'",
      "\nDuring handling of the above exception, another exception occurred:\n",
      "\u001b[1;31mInvalidKeyError\u001b[0m      Traceback (most recent call last)",
      "File \u001b[1;32m~\\airflow\\venv\\lib\\site-packages\\great_expectations\\data_context\\store\\checkpoint_store.py:144\u001b[0m, in \u001b[0;36mCheckpointStore.get_checkpoint\u001b[1;34m(self, name, id)\u001b[0m\n\u001b[0;32m    143\u001b[0m \u001b[38;5;28;01mtry\u001b[39;00m:\n\u001b[1;32m--> 144\u001b[0m     checkpoint_config: Optional[Any] \u001b[38;5;241m=\u001b[39m \u001b[38;5;28;43mself\u001b[39;49m\u001b[38;5;241;43m.\u001b[39;49m\u001b[43mget\u001b[49m\u001b[43m(\u001b[49m\u001b[43mkey\u001b[49m\u001b[38;5;241;43m=\u001b[39;49m\u001b[43mkey\u001b[49m\u001b[43m)\u001b[49m\n\u001b[0;32m    145\u001b[0m     \u001b[38;5;28;01massert\u001b[39;00m \u001b[38;5;28misinstance\u001b[39m(\n\u001b[0;32m    146\u001b[0m         checkpoint_config, CheckpointConfig\n\u001b[0;32m    147\u001b[0m     ), \u001b[38;5;124m\"\u001b[39m\u001b[38;5;124mcheckpoint_config retrieved was not of type CheckpointConfig\u001b[39m\u001b[38;5;124m\"\u001b[39m\n",
      "File \u001b[1;32m~\\airflow\\venv\\lib\\site-packages\\great_expectations\\data_context\\store\\store.py:181\u001b[0m, in \u001b[0;36mStore.get\u001b[1;34m(self, key)\u001b[0m\n\u001b[0;32m    180\u001b[0m     \u001b[38;5;28mself\u001b[39m\u001b[38;5;241m.\u001b[39m_validate_key(key)\n\u001b[1;32m--> 181\u001b[0m     value \u001b[38;5;241m=\u001b[39m \u001b[38;5;28;43mself\u001b[39;49m\u001b[38;5;241;43m.\u001b[39;49m\u001b[43m_store_backend\u001b[49m\u001b[38;5;241;43m.\u001b[39;49m\u001b[43mget\u001b[49m\u001b[43m(\u001b[49m\u001b[38;5;28;43mself\u001b[39;49m\u001b[38;5;241;43m.\u001b[39;49m\u001b[43mkey_to_tuple\u001b[49m\u001b[43m(\u001b[49m\u001b[43mkey\u001b[49m\u001b[43m)\u001b[49m\u001b[43m)\u001b[49m\n\u001b[0;32m    183\u001b[0m \u001b[38;5;28;01mif\u001b[39;00m value:\n",
      "File \u001b[1;32m~\\airflow\\venv\\lib\\site-packages\\great_expectations\\data_context\\store\\_store_backend.py:120\u001b[0m, in \u001b[0;36mStoreBackend.get\u001b[1;34m(self, key, **kwargs)\u001b[0m\n\u001b[0;32m    119\u001b[0m \u001b[38;5;28mself\u001b[39m\u001b[38;5;241m.\u001b[39m_validate_key(key)\n\u001b[1;32m--> 120\u001b[0m value \u001b[38;5;241m=\u001b[39m \u001b[38;5;28mself\u001b[39m\u001b[38;5;241m.\u001b[39m_get(key, \u001b[38;5;241m*\u001b[39m\u001b[38;5;241m*\u001b[39mkwargs)\n\u001b[0;32m    121\u001b[0m \u001b[38;5;28;01mreturn\u001b[39;00m value\n",
      "File \u001b[1;32m~\\airflow\\venv\\lib\\site-packages\\great_expectations\\data_context\\store\\tuple_store_backend.py:312\u001b[0m, in \u001b[0;36mTupleFilesystemStoreBackend._get\u001b[1;34m(self, key)\u001b[0m\n\u001b[0;32m    311\u001b[0m \u001b[38;5;28;01mexcept\u001b[39;00m \u001b[38;5;167;01mFileNotFoundError\u001b[39;00m:\n\u001b[1;32m--> 312\u001b[0m     \u001b[38;5;28;01mraise\u001b[39;00m InvalidKeyError(\n\u001b[0;32m    313\u001b[0m         \u001b[38;5;124mf\u001b[39m\u001b[38;5;124m\"\u001b[39m\u001b[38;5;124mUnable to retrieve object from TupleFilesystemStoreBackend with the following Key: \u001b[39m\u001b[38;5;132;01m{\u001b[39;00m\u001b[38;5;28mstr\u001b[39m(filepath)\u001b[38;5;132;01m}\u001b[39;00m\u001b[38;5;124m\"\u001b[39m\n\u001b[0;32m    314\u001b[0m     )\n\u001b[0;32m    316\u001b[0m \u001b[38;5;28;01mreturn\u001b[39;00m contents\n",
      "\u001b[1;31mInvalidKeyError\u001b[0m: Unable to retrieve object from TupleFilesystemStoreBackend with the following Key: C:\\Users\\Vitor Russomano\\airflow\\great_expectations\\checkpoints/my_checkpoint\\yml.yml",
      "\nDuring handling of the above exception, another exception occurred:\n",
      "\u001b[1;31mCheckpointNotFoundError\u001b[0mTraceback (most recent call last)",
      "Cell \u001b[1;32mIn[25], line 1\u001b[0m\n\u001b[1;32m----> 1\u001b[0m \u001b[43mcontext\u001b[49m\u001b[38;5;241;43m.\u001b[39;49m\u001b[43mrun_checkpoint\u001b[49m\u001b[43m(\u001b[49m\u001b[43mcheckpoint_name\u001b[49m\u001b[38;5;241;43m=\u001b[39;49m\u001b[38;5;124;43m\"\u001b[39;49m\u001b[38;5;124;43mmy_checkpoint.yml\u001b[39;49m\u001b[38;5;124;43m\"\u001b[39;49m\u001b[43m)\u001b[49m\n",
      "File \u001b[1;32m~\\airflow\\venv\\lib\\site-packages\\great_expectations\\core\\usage_statistics\\usage_statistics.py:318\u001b[0m, in \u001b[0;36musage_statistics_enabled_method.<locals>.usage_statistics_wrapped_method\u001b[1;34m(*args, **kwargs)\u001b[0m\n\u001b[0;32m    315\u001b[0m         args_payload \u001b[38;5;241m=\u001b[39m args_payload_fn(\u001b[38;5;241m*\u001b[39margs, \u001b[38;5;241m*\u001b[39m\u001b[38;5;241m*\u001b[39mkwargs) \u001b[38;5;129;01mor\u001b[39;00m {}\n\u001b[0;32m    316\u001b[0m         nested_update(event_payload, args_payload)\n\u001b[1;32m--> 318\u001b[0m     result \u001b[38;5;241m=\u001b[39m func(\u001b[38;5;241m*\u001b[39margs, \u001b[38;5;241m*\u001b[39m\u001b[38;5;241m*\u001b[39mkwargs)\n\u001b[0;32m    319\u001b[0m     message[\u001b[38;5;124m\"\u001b[39m\u001b[38;5;124msuccess\u001b[39m\u001b[38;5;124m\"\u001b[39m] \u001b[38;5;241m=\u001b[39m \u001b[38;5;28;01mTrue\u001b[39;00m\n\u001b[0;32m    320\u001b[0m \u001b[38;5;28;01mexcept\u001b[39;00m \u001b[38;5;167;01mException\u001b[39;00m:\n",
      "File \u001b[1;32m~\\airflow\\venv\\lib\\site-packages\\great_expectations\\data_context\\data_context\\abstract_data_context.py:2152\u001b[0m, in \u001b[0;36mAbstractDataContext.run_checkpoint\u001b[1;34m(***failed resolving arguments***)\u001b[0m\n\u001b[0;32m   2149\u001b[0m \u001b[38;5;28;01mdel\u001b[39;00m ge_cloud_id\n\u001b[0;32m   2150\u001b[0m \u001b[38;5;28;01mdel\u001b[39;00m expectation_suite_ge_cloud_id\n\u001b[1;32m-> 2152\u001b[0m \u001b[38;5;28;01mreturn\u001b[39;00m \u001b[38;5;28mself\u001b[39m\u001b[38;5;241m.\u001b[39m_run_checkpoint(\n\u001b[0;32m   2153\u001b[0m     checkpoint_name\u001b[38;5;241m=\u001b[39mcheckpoint_name,\n\u001b[0;32m   2154\u001b[0m     \u001b[38;5;28mid\u001b[39m\u001b[38;5;241m=\u001b[39m\u001b[38;5;28mid\u001b[39m,\n\u001b[0;32m   2155\u001b[0m     template_name\u001b[38;5;241m=\u001b[39mtemplate_name,\n\u001b[0;32m   2156\u001b[0m     run_name_template\u001b[38;5;241m=\u001b[39mrun_name_template,\n\u001b[0;32m   2157\u001b[0m     expectation_suite_name\u001b[38;5;241m=\u001b[39mexpectation_suite_name,\n\u001b[0;32m   2158\u001b[0m     batch_request\u001b[38;5;241m=\u001b[39mbatch_request,\n\u001b[0;32m   2159\u001b[0m     action_list\u001b[38;5;241m=\u001b[39maction_list,\n\u001b[0;32m   2160\u001b[0m     evaluation_parameters\u001b[38;5;241m=\u001b[39mevaluation_parameters,\n\u001b[0;32m   2161\u001b[0m     runtime_configuration\u001b[38;5;241m=\u001b[39mruntime_configuration,\n\u001b[0;32m   2162\u001b[0m     validations\u001b[38;5;241m=\u001b[39mvalidations,\n\u001b[0;32m   2163\u001b[0m     profilers\u001b[38;5;241m=\u001b[39mprofilers,\n\u001b[0;32m   2164\u001b[0m     run_id\u001b[38;5;241m=\u001b[39mrun_id,\n\u001b[0;32m   2165\u001b[0m     run_name\u001b[38;5;241m=\u001b[39mrun_name,\n\u001b[0;32m   2166\u001b[0m     run_time\u001b[38;5;241m=\u001b[39mrun_time,\n\u001b[0;32m   2167\u001b[0m     result_format\u001b[38;5;241m=\u001b[39mresult_format,\n\u001b[0;32m   2168\u001b[0m     expectation_suite_ge_cloud_id\u001b[38;5;241m=\u001b[39mexpectation_suite_id,\n\u001b[0;32m   2169\u001b[0m     \u001b[38;5;241m*\u001b[39m\u001b[38;5;241m*\u001b[39mkwargs,\n\u001b[0;32m   2170\u001b[0m )\n",
      "File \u001b[1;32m~\\airflow\\venv\\lib\\site-packages\\great_expectations\\data_context\\data_context\\abstract_data_context.py:2192\u001b[0m, in \u001b[0;36mAbstractDataContext._run_checkpoint\u001b[1;34m(self, checkpoint_name, id, template_name, run_name_template, expectation_suite_name, batch_request, action_list, evaluation_parameters, runtime_configuration, validations, profilers, run_id, run_name, run_time, result_format, expectation_suite_ge_cloud_id, **kwargs)\u001b[0m\n\u001b[0;32m   2172\u001b[0m \u001b[38;5;28;01mdef\u001b[39;00m \u001b[38;5;21m_run_checkpoint\u001b[39m(\n\u001b[0;32m   2173\u001b[0m     \u001b[38;5;28mself\u001b[39m,\n\u001b[0;32m   2174\u001b[0m     checkpoint_name: \u001b[38;5;28mstr\u001b[39m \u001b[38;5;241m|\u001b[39m \u001b[38;5;28;01mNone\u001b[39;00m \u001b[38;5;241m=\u001b[39m \u001b[38;5;28;01mNone\u001b[39;00m,\n\u001b[1;32m   (...)\u001b[0m\n\u001b[0;32m   2190\u001b[0m     \u001b[38;5;241m*\u001b[39m\u001b[38;5;241m*\u001b[39mkwargs,\n\u001b[0;32m   2191\u001b[0m ) \u001b[38;5;241m-\u001b[39m\u001b[38;5;241m>\u001b[39m CheckpointResult:\n\u001b[1;32m-> 2192\u001b[0m     checkpoint: Checkpoint \u001b[38;5;241m=\u001b[39m \u001b[38;5;28;43mself\u001b[39;49m\u001b[38;5;241;43m.\u001b[39;49m\u001b[43mget_checkpoint\u001b[49m\u001b[43m(\u001b[49m\n\u001b[0;32m   2193\u001b[0m \u001b[43m        \u001b[49m\u001b[43mname\u001b[49m\u001b[38;5;241;43m=\u001b[39;49m\u001b[43mcheckpoint_name\u001b[49m\u001b[43m,\u001b[49m\n\u001b[0;32m   2194\u001b[0m \u001b[43m        \u001b[49m\u001b[38;5;28;43mid\u001b[39;49m\u001b[38;5;241;43m=\u001b[39;49m\u001b[38;5;28;43mid\u001b[39;49m\u001b[43m,\u001b[49m\n\u001b[0;32m   2195\u001b[0m \u001b[43m    \u001b[49m\u001b[43m)\u001b[49m\n\u001b[0;32m   2196\u001b[0m     result: CheckpointResult \u001b[38;5;241m=\u001b[39m checkpoint\u001b[38;5;241m.\u001b[39mrun_with_runtime_args(\n\u001b[0;32m   2197\u001b[0m         template_name\u001b[38;5;241m=\u001b[39mtemplate_name,\n\u001b[0;32m   2198\u001b[0m         run_name_template\u001b[38;5;241m=\u001b[39mrun_name_template,\n\u001b[1;32m   (...)\u001b[0m\n\u001b[0;32m   2211\u001b[0m         \u001b[38;5;241m*\u001b[39m\u001b[38;5;241m*\u001b[39mkwargs,\n\u001b[0;32m   2212\u001b[0m     )\n\u001b[0;32m   2213\u001b[0m     \u001b[38;5;28;01mreturn\u001b[39;00m result\n",
      "File \u001b[1;32m~\\airflow\\venv\\lib\\site-packages\\great_expectations\\data_context\\data_context\\abstract_data_context.py:2043\u001b[0m, in \u001b[0;36mAbstractDataContext.get_checkpoint\u001b[1;34m(***failed resolving arguments***)\u001b[0m\n\u001b[0;32m   2039\u001b[0m \u001b[38;5;28;01mdel\u001b[39;00m ge_cloud_id\n\u001b[0;32m   2041\u001b[0m \u001b[38;5;28;01mfrom\u001b[39;00m \u001b[38;5;21;01mgreat_expectations\u001b[39;00m\u001b[38;5;21;01m.\u001b[39;00m\u001b[38;5;21;01mcheckpoint\u001b[39;00m\u001b[38;5;21;01m.\u001b[39;00m\u001b[38;5;21;01mcheckpoint\u001b[39;00m \u001b[38;5;28;01mimport\u001b[39;00m Checkpoint\n\u001b[1;32m-> 2043\u001b[0m checkpoint_config: CheckpointConfig \u001b[38;5;241m=\u001b[39m \u001b[38;5;28;43mself\u001b[39;49m\u001b[38;5;241;43m.\u001b[39;49m\u001b[43mcheckpoint_store\u001b[49m\u001b[38;5;241;43m.\u001b[39;49m\u001b[43mget_checkpoint\u001b[49m\u001b[43m(\u001b[49m\n\u001b[0;32m   2044\u001b[0m \u001b[43m    \u001b[49m\u001b[43mname\u001b[49m\u001b[38;5;241;43m=\u001b[39;49m\u001b[43mname\u001b[49m\u001b[43m,\u001b[49m\u001b[43m \u001b[49m\u001b[38;5;28;43mid\u001b[39;49m\u001b[38;5;241;43m=\u001b[39;49m\u001b[38;5;28;43mid\u001b[39;49m\n\u001b[0;32m   2045\u001b[0m \u001b[43m\u001b[49m\u001b[43m)\u001b[49m\n\u001b[0;32m   2046\u001b[0m checkpoint: Checkpoint \u001b[38;5;241m=\u001b[39m Checkpoint\u001b[38;5;241m.\u001b[39minstantiate_from_config_with_runtime_args(\n\u001b[0;32m   2047\u001b[0m     checkpoint_config\u001b[38;5;241m=\u001b[39mcheckpoint_config,\n\u001b[0;32m   2048\u001b[0m     data_context\u001b[38;5;241m=\u001b[39m\u001b[38;5;28mself\u001b[39m,\n\u001b[0;32m   2049\u001b[0m     name\u001b[38;5;241m=\u001b[39mname,\n\u001b[0;32m   2050\u001b[0m )\n\u001b[0;32m   2052\u001b[0m \u001b[38;5;28;01mreturn\u001b[39;00m checkpoint\n",
      "File \u001b[1;32m~\\airflow\\venv\\lib\\site-packages\\great_expectations\\data_context\\store\\checkpoint_store.py:149\u001b[0m, in \u001b[0;36mCheckpointStore.get_checkpoint\u001b[1;34m(self, name, id)\u001b[0m\n\u001b[0;32m    145\u001b[0m     \u001b[38;5;28;01massert\u001b[39;00m \u001b[38;5;28misinstance\u001b[39m(\n\u001b[0;32m    146\u001b[0m         checkpoint_config, CheckpointConfig\n\u001b[0;32m    147\u001b[0m     ), \u001b[38;5;124m\"\u001b[39m\u001b[38;5;124mcheckpoint_config retrieved was not of type CheckpointConfig\u001b[39m\u001b[38;5;124m\"\u001b[39m\n\u001b[0;32m    148\u001b[0m \u001b[38;5;28;01mexcept\u001b[39;00m gx_exceptions\u001b[38;5;241m.\u001b[39mInvalidKeyError \u001b[38;5;28;01mas\u001b[39;00m exc_ik:\n\u001b[1;32m--> 149\u001b[0m     \u001b[38;5;28;01mraise\u001b[39;00m gx_exceptions\u001b[38;5;241m.\u001b[39mCheckpointNotFoundError(\n\u001b[0;32m    150\u001b[0m         message\u001b[38;5;241m=\u001b[39m\u001b[38;5;124mf\u001b[39m\u001b[38;5;124m'\u001b[39m\u001b[38;5;124mNon-existent Checkpoint configuration named \u001b[39m\u001b[38;5;124m\"\u001b[39m\u001b[38;5;132;01m{\u001b[39;00mkey\u001b[38;5;241m.\u001b[39mconfiguration_key\u001b[38;5;132;01m}\u001b[39;00m\u001b[38;5;124m\"\u001b[39m\u001b[38;5;124m.\u001b[39m\u001b[38;5;130;01m\\n\u001b[39;00m\u001b[38;5;130;01m\\n\u001b[39;00m\u001b[38;5;124mDetails: \u001b[39m\u001b[38;5;132;01m{\u001b[39;00mexc_ik\u001b[38;5;132;01m}\u001b[39;00m\u001b[38;5;124m'\u001b[39m  \u001b[38;5;66;03m# type: ignore[union-attr]\u001b[39;00m\n\u001b[0;32m    151\u001b[0m     )\n\u001b[0;32m    152\u001b[0m \u001b[38;5;28;01mexcept\u001b[39;00m ValidationError \u001b[38;5;28;01mas\u001b[39;00m exc_ve:\n\u001b[0;32m    153\u001b[0m     \u001b[38;5;28;01mraise\u001b[39;00m gx_exceptions\u001b[38;5;241m.\u001b[39mInvalidCheckpointConfigError(\n\u001b[0;32m    154\u001b[0m         message\u001b[38;5;241m=\u001b[39m\u001b[38;5;124m\"\u001b[39m\u001b[38;5;124mInvalid Checkpoint configuration\u001b[39m\u001b[38;5;124m\"\u001b[39m, validation_error\u001b[38;5;241m=\u001b[39mexc_ve\n\u001b[0;32m    155\u001b[0m     )\n",
      "\u001b[1;31mCheckpointNotFoundError\u001b[0m: Non-existent Checkpoint configuration named \"my_checkpoint.yml\".\n\nDetails: Unable to retrieve object from TupleFilesystemStoreBackend with the following Key: C:\\Users\\Vitor Russomano\\airflow\\great_expectations\\checkpoints/my_checkpoint\\yml.yml"
     ]
    }
   ],
   "source": [
    "context.run_checkpoint(checkpoint_name=\"my_checkpoint.yml\")\n"
   ]
  }
 ],
 "metadata": {
  "kernelspec": {
   "display_name": "Python 3 (ipykernel)",
   "language": "python",
   "name": "python3"
  },
  "language_info": {
   "codemirror_mode": {
    "name": "ipython",
    "version": 3
   },
   "file_extension": ".py",
   "mimetype": "text/x-python",
   "name": "python",
   "nbconvert_exporter": "python",
   "pygments_lexer": "ipython3",
   "version": "3.10.5"
  }
 },
 "nbformat": 4,
 "nbformat_minor": 5
}
