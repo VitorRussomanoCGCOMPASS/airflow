{
 "cells": [
  {
   "cell_type": "markdown",
   "id": "fd9009ca",
   "metadata": {},
   "source": [
    "# Edit Your Expectation Suite\n",
    "Use this notebook to recreate and modify your expectation suite:\n",
    "\n",
    "**Expectation Suite Name**: `tyt`\n"
   ]
  },
  {
   "cell_type": "code",
   "execution_count": 1,
   "id": "716e705e",
   "metadata": {},
   "outputs": [
    {
     "name": "stdout",
     "output_type": "stream",
     "text": [
      "2023-03-24T16:10:10-0300 - INFO - Great Expectations logging enabled at 20 level by JupyterUX module.\n",
      "2023-03-24T16:10:10-0300 - INFO - FileDataContext loading fluent config\n",
      "2023-03-24T16:10:10-0300 - INFO - GxConfig.parse_yaml() failed with errors - [{'loc': ('fluent_datasources',), 'msg': 'field required', 'type': 'value_error.missing'}]\n",
      "2023-03-24T16:10:10-0300 - INFO - GxConfig.parse_yaml() returning empty `fluent_datasources`\n",
      "2023-03-24T16:10:10-0300 - INFO - Loading 'datasources' ->\n",
      "{}\n",
      "2023-03-24T16:10:10-0300 - INFO - Loaded 'datasources' ->\n",
      "{}\n",
      "2023-03-24T16:10:14-0300 - WARNING - Cannot initialize datasource mssql-default: Cannot initialize datasource mssql-default, error: The module: `great_expectations.datasource.data_connector` does not contain the class: `ConfiguredAssetSqlDatawConnector`.\n",
      "        - Please verify that the class named `ConfiguredAssetSqlDatawConnector` exists.\n",
      "Loaded ExpectationSuite \"tyt\" containing 0 expectations.\n"
     ]
    }
   ],
   "source": [
    "import datetime\n",
    "\n",
    "import pandas as pd\n",
    "\n",
    "import great_expectations as gx\n",
    "import great_expectations.jupyter_ux\n",
    "from great_expectations.core.expectation_configuration import ExpectationConfiguration\n",
    "from great_expectations.data_context.types.resource_identifiers import (\n",
    "    ExpectationSuiteIdentifier,\n",
    ")\n",
    "from great_expectations.exceptions import DataContextError\n",
    "\n",
    "context = gx.get_context()\n",
    "\n",
    "\n",
    "# Feel free to change the name of your suite here. Renaming this will not remove the other one.\n",
    "expectation_suite_name = \"tyt\"\n",
    "try:\n",
    "    suite = context.get_expectation_suite(expectation_suite_name=expectation_suite_name)\n",
    "    print(\n",
    "        f'Loaded ExpectationSuite \"{suite.expectation_suite_name}\" containing {len(suite.expectations)} expectations.'\n",
    "    )\n",
    "except DataContextError:\n",
    "    suite = context.add_expectation_suite(expectation_suite_name=expectation_suite_name)\n",
    "    print(f'Created ExpectationSuite \"{suite.expectation_suite_name}\".')"
   ]
  },
  {
   "cell_type": "markdown",
   "id": "18228cd0",
   "metadata": {},
   "source": [
    "## Create & Edit Expectations\n",
    "\n",
    "\n",
    "You are adding Expectation configurations to the suite. Since you selected manual mode, there is no sample batch of data and no validation happens during this process. See our documentation for more info and examples: **[How to create a new Expectation Suite without a sample batch](https://docs.greatexpectations.io/docs/guides/expectations/how_to_create_and_edit_expectations_based_on_domain_knowledge_without_inspecting_data_directly)**.\n",
    "\n",
    "Note that if you do use interactive mode you may specify a sample batch of data to use when creating your Expectation Suite. You can then use a `validator` to get immediate feedback on your Expectations against your specified sample batch.\n",
    "\n",
    "\n",
    "You can see all the available expectations in the **[expectation gallery](https://greatexpectations.io/expectations)**."
   ]
  },
  {
   "cell_type": "markdown",
   "id": "4f38595e",
   "metadata": {},
   "source": [
    "### Table Expectation(s)"
   ]
  },
  {
   "cell_type": "markdown",
   "id": "193efd87",
   "metadata": {},
   "source": [
    "No table level expectations are in this suite. Feel free to add some here.\n"
   ]
  },
  {
   "cell_type": "markdown",
   "id": "931dca86",
   "metadata": {},
   "source": [
    "### Column Expectation(s)"
   ]
  },
  {
   "cell_type": "markdown",
   "id": "e14271c3",
   "metadata": {},
   "source": [
    "No column level expectations are in this suite. Feel free to add some here.\n"
   ]
  },
  {
   "cell_type": "markdown",
   "id": "17daa0b7",
   "metadata": {},
   "source": [
    "## Review & Save Your Expectations\n",
    "\n",
    "Let's save the expectation suite as a JSON file in the `great_expectations/expectations` directory of your project.\n",
    "\n",
    "Let's now rebuild your Data Docs, which helps you communicate about your data with both machines and humans."
   ]
  },
  {
   "cell_type": "code",
   "execution_count": null,
   "id": "68ca1679",
   "metadata": {},
   "outputs": [],
   "source": [
    "print(context.get_expectation_suite(expectation_suite_name=expectation_suite_name))\n",
    "context.add_or_update_expectation_suite(expectation_suite=suite)\n",
    "\n",
    "suite_identifier = ExpectationSuiteIdentifier(expectation_suite_name=expectation_suite_name)\n",
    "context.build_data_docs(resource_identifiers=[suite_identifier])\n",
    "context.open_data_docs(resource_identifier=suite_identifier)"
   ]
  }
 ],
 "metadata": {
  "kernelspec": {
   "display_name": "Python 3 (ipykernel)",
   "language": "python",
   "name": "python3"
  },
  "language_info": {
   "codemirror_mode": {
    "name": "ipython",
    "version": 3
   },
   "file_extension": ".py",
   "mimetype": "text/x-python",
   "name": "python",
   "nbconvert_exporter": "python",
   "pygments_lexer": "ipython3",
   "version": "3.10.5"
  }
 },
 "nbformat": 4,
 "nbformat_minor": 5
}
